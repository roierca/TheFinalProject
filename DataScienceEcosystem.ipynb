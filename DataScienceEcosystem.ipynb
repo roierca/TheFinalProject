{
 "cells": [
  {
   "cell_type": "markdown",
   "metadata": {},
   "source": [
    "<center>\n",
    "    <img src=\"https://cf-courses-data.s3.us.cloud-object-storage.appdomain.cloud/IBMDeveloperSkillsNetwork-DS0105EN-SkillsNetwork/labs/Module2/images/SN_web_lightmode.png\" width=\"300\" alt=\"cognitiveclass.ai logo\">\n",
    "</center>\n"
   ]
  },
  {
   "cell_type": "markdown",
   "metadata": {},
   "source": [
    "#### Add your code below following the instructions given in the course\n"
   ]
  },
  {
   "cell_type": "markdown",
   "metadata": {},
   "source": [
    "# My Jupyter Notebook on IBM Watson Studio"
   ]
  },
  {
   "cell_type": "markdown",
   "metadata": {},
   "source": [
    "**Camila Barrichello**\n",
    "Translator and Interpreter"
   ]
  },
  {
   "cell_type": "markdown",
   "metadata": {},
   "source": [
    "*I´m interested in Data Science, because it seems to me something extraordinary and revolutionary, how Data can help us to really see how the world works and all the possible horizons based on that information.*"
   ]
  },
  {
   "cell_type": "markdown",
   "metadata": {},
   "source": [
    "**At this point, it is confusing, which of the instructions given by the course for this Final Project is the one we should follow (or maybe it is an error of understanding of my part) but given the doubt, I´m going to write both directives (thanks and apologies):**\n",
    "(This is just a cell created to make this clarification, so the next cell is the one that corresponds to number 4)"
   ]
  },
  {
   "cell_type": "markdown",
   "metadata": {},
   "source": [
    "### The following code will execute a sum between two integers:"
   ]
  },
  {
   "cell_type": "code",
   "execution_count": 2,
   "metadata": {},
   "outputs": [
    {
     "data": {
      "text/plain": [
       "200"
      ]
     },
     "execution_count": 2,
     "metadata": {},
     "output_type": "execute_result"
    }
   ],
   "source": [
    "100+100"
   ]
  },
  {
   "cell_type": "markdown",
   "metadata": {},
   "source": [
    "______________________________________________________________________________________________________________________________________\n",
    "\n",
    "- ONE\n",
    "- TWO\n",
    "- PINK\n",
    "- VIOLET\n",
    "- APPLE\n",
    "- WATERMELON\n",
    "\n",
    "[GOOGLE](https://www.google.com/)\n",
    "\n",
    "| NAME | AGE | NATIONALITY |\n",
    "| ---- | --- | ----------- |\n",
    "| CAMILA | 31 | BRAZILIAN |\n",
    "| PAULA | 23 | URUGUAYAN |\n",
    "| MORENA | 14 | ARGENTINIAN |\n",
    "\n",
    "______________________________________________________________________________________________________________________________________"
   ]
  },
  {
   "cell_type": "markdown",
   "metadata": {},
   "source": [
    "### In this cell, I give continuity to the other \"exercises\" proposed for the Final Project:"
   ]
  },
  {
   "cell_type": "markdown",
   "metadata": {},
   "source": [
    "# My Jupyter Notebook on IBM Watson Studio "
   ]
  },
  {
   "cell_type": "markdown",
   "metadata": {},
   "source": [
    "**In this notebook we are going to see a small summary of the most important things that these weeks have left us:**"
   ]
  },
  {
   "cell_type": "markdown",
   "metadata": {
    "jupyter": {
     "source_hidden": true
    },
    "tags": []
   },
   "source": [
    "## DATA SCIENCE LANGUAGES:\n",
    "\n",
    "- PYTHON\n",
    "- R\n",
    "- SQL\n",
    "- SCALA\n",
    "- JAVA\n",
    "- C++\n",
    "- JULIA\n",
    "- JAVA SCRIPT\n",
    "- PHP\n",
    "- GO\n",
    "- RUBY\n",
    "- VISUAL BASIC"
   ]
  },
  {
   "cell_type": "markdown",
   "metadata": {},
   "source": [
    "## DATA SCIENCE LIBRARIES:\n",
    "**(Here it´s important to highlight that there are many libraries, so here we list some of them)**\n",
    "\n",
    "**PYTHON LIBRARIES:**\n",
    "\n",
    "- NumPy\n",
    "- Pandas\n",
    "- MATPLOTLIB\n",
    "- Seaborn\n",
    "- SciKit-learn\n",
    "- Keras\n",
    "- TensorFlow\n",
    "- PyTorch\n",
    "\n",
    "\n",
    "**SCALA LIBRARIES:**\n",
    "\n",
    "- Vegas\n",
    "- Big DL\n",
    "- Akka\n",
    "- Spark\n",
    "\n",
    "**R LIBRARIES:**\n",
    "\n",
    "- ggplot2\n",
    "- dplyr\n",
    "- plyr\n",
    "\n",
    "\n",
    "**APACHE SPARK LIBRARIES:**\n",
    "\n",
    "- Spark SQL\n",
    "- MLlib\n",
    "- GraphX"
   ]
  },
  {
   "cell_type": "markdown",
   "metadata": {},
   "source": [
    "## DATA SCIENCE TOOLS:\n",
    " \n",
    "*In order to talk about the different tools available for Data Science, it´s convenient, first, to understand that there are different TASKS/CATEGORIES within Data Science and therefore different tools, which are divided between:*\n",
    "\n",
    "- OPEN SOURCE tools\n",
    "- COMMERCIAL tools\n",
    "- CLOUD BASED tools \n",
    "\n",
    "### Let's look at Open Source Tools:\n",
    "\n",
    "| CATEGORY | TOOL |\n",
    "| -------- | ---- |\n",
    "| DATA MANAGEMENT | My SQL, PostgreSQL, Mongo DB, Apache Couch DB, Apache Cassandra, Hadoop File System, Ceph, Elastic Search |\n",
    "| DATA INTEGRATION and TRANSFORMATION | Apache AirFlow, Kube Flow, Apache Kafka, Apache Nifi, Apache SparkSQL, NoteRed |\n",
    "| DATA VISUALIZATION | Hue, Kibana, Apache Superset |\n",
    "| MODEL DEPLOYMENT | Apache PredictionIO, Seldon, Mleap, TensorFlow Service, TensorFlow Lite, TensorFlow JS |\n",
    "| MODEL MONITORING and ASSESSMENT | Model DB, Prometheus, IBM Fairness 360, IBM Adversarial Robustness 360 Toolbox, IBM AI Explainability 360 ToolKit |\n",
    "| CODE ASSET MANAGEMENT | GitHub, GitLab, Bitbucket |\n",
    "| DATA ASSET MANAGEMENT | Apache Atlas, ODPi Egeria, Kylo |\n",
    "| DEVELOPMENT ENVIRONMENTS | Jupyter, Apache Zeppelin, R Studio, Spyder |\n",
    "| EXECUTION ENVIRONMENTS | Apache Spark, Apache Flink, Ray |\n",
    "| FULLY INTEGRATED VISUAL TOOLS | Knime, Orange |\n",
    "                                    \n",
    "\n",
    "### Let´s look at Commercial Tools:\n",
    "\n",
    "| CATEGORY | TOOL |\n",
    "| -------- | ---- |\n",
    "| DATA MANAGEMENT | Oracle DataBase, Microsoft SQL Server, IBM DB2 |\n",
    "| DATA INTEGRATION and TRANSFORMATION | Informatica PowerCenter, IBM InfoSphere DataStage, SAP, Oracle, SAS, Talend, Microsoft, IBM Watson Studio Desktop |\n",
    "| DATA VISUALIZATION | Tableau, Microsoft Power BI, IBM Cognos Analytics, Watson Studio Desktop |\n",
    "| MODEL BUILDING | SPSS Modeler, SAS Enterprise Miner |\n",
    "| CODE ASSET MANAGEMENT | Informatica Enterprise Data Governance, IBM InfoSphere Information Governance Catalog |\n",
    "| DEVELOPMENT ENVIRONMENTS | IBM Watson Studio Desktop, Watson Open Scale, H20 |\n",
    "\n",
    "\n",
    "### Finally, let´s look at Cloud Based Tools:\n",
    "\n",
    "| CATEGORY | TOOL |\n",
    "| -------- | ---- |\n",
    "| FULLY INTEGRATED VISUAL TOOLS AND PLATFORMS | Watson Studio, Watson OpenScale, Azure, H20 Driverless AI |\n",
    "| DATA MANAGEMENT | Amazon DynamoDB Web Service, Cloudant, DB2 |\n",
    "| DATA INTEGRATION and TRANSFORMATION | Informatica Cloud Data Integration, Data Refinery IBM |\n",
    "| DATA VISUALIZATION | Datameer, IBM Cognos Analytics |\n",
    "| MODEL BUILDING and MODEL DEPLOYMENT | IBM Watson Machine Learning, Google Cloud |\n",
    "| MODEL MONITORING and ASSESSMENT | Amazon SageMaker Model Monitor, Watson OpenScale |"
   ]
  },
  {
   "cell_type": "markdown",
   "metadata": {},
   "source": [
    "______________________________________________________________________________________________________________________________________"
   ]
  },
  {
   "cell_type": "markdown",
   "metadata": {},
   "source": [
    "$200+300-100=400$\n",
    "\n",
    "$400-100-50=250$\n",
    "\n",
    "$a+b=c$\n",
    "\n",
    "$c-b=a$\n",
    "\n",
    "$c-a=b$"
   ]
  },
  {
   "cell_type": "markdown",
   "metadata": {},
   "source": [
    "______________________________________________________________________________________________________________________________________"
   ]
  },
  {
   "cell_type": "code",
   "execution_count": 1,
   "metadata": {},
   "outputs": [
    {
     "name": "stdout",
     "output_type": "stream",
     "text": [
      "105\n"
     ]
    }
   ],
   "source": [
    "x = 50\n",
    "\n",
    "y = 2\n",
    "\n",
    "a = 5\n",
    "\n",
    "result = x * y + a\n",
    "\n",
    "print(result)"
   ]
  },
  {
   "cell_type": "markdown",
   "metadata": {},
   "source": [
    "______________________________________________________________________________________________________________________________________"
   ]
  },
  {
   "cell_type": "code",
   "execution_count": 3,
   "metadata": {},
   "outputs": [
    {
     "name": "stdout",
     "output_type": "stream",
     "text": [
      "120\n"
     ]
    }
   ],
   "source": [
    "hours = 2\n",
    "\n",
    "minutes = hours * 60\n",
    "\n",
    "print(minutes)"
   ]
  },
  {
   "cell_type": "markdown",
   "metadata": {},
   "source": [
    "______________________________________________________________________________________________________________________________________"
   ]
  },
  {
   "cell_type": "markdown",
   "metadata": {},
   "source": [
    "### OBJECTIVES:\n",
    "\n",
    "- Create a Portfolio\n",
    "\n",
    "- Focus my career towards the well-being of women: using the knowledge acquired I want to expose the reality and seek new horizons based on that."
   ]
  },
  {
   "cell_type": "markdown",
   "metadata": {},
   "source": [
    "______________________________________________________________________________________________________________________________________"
   ]
  },
  {
   "cell_type": "markdown",
   "metadata": {},
   "source": [
    "By Camila Barrichello @camilaroier\n",
    "\n",
    "______________________________________________________________________________________________________________________________________"
   ]
  },
  {
   "cell_type": "markdown",
   "metadata": {},
   "source": [
    "### AT THIS POINT, WHEN I HAVE TO UPLOAD MY WORK TO GITHUB, A THIRD TUTORIAL APPEARS! : I´M NOT GOING TO DELETE ALL MY PREVIOUS WORK: THE COURSE (AT THIS POINT) DOES NOT PROVIDE CLEARNESS, THERE ARE A TOTAL OF 3 INSTRUCTIONS ON HOW TO MAKE THE NOTEBOOK, SO I CONTINUE TO WRITE A THIRD ´´FINAL PROJECT´´:\n",
    "______________________________________________________________________________________________________________________________________"
   ]
  },
  {
   "cell_type": "markdown",
   "metadata": {},
   "source": [
    "# Data Science Tools and Ecosystem"
   ]
  },
  {
   "cell_type": "markdown",
   "metadata": {},
   "source": [
    "**In this notebook, Data Science Tools and Ecosystem are summarized.**"
   ]
  },
  {
   "cell_type": "markdown",
   "metadata": {},
   "source": [
    "**OBJECTIVE:**\n",
    "\n",
    "- Some of the popular languages that Data Scientists use\n",
    "- Some of the commonly used libraries used by Data Scientists \n",
    "- Some Data Science Tools\n",
    "- Few examples of evaluating arithmetic expressions in Python\n",
    "- Author"
   ]
  },
  {
   "cell_type": "markdown",
   "metadata": {},
   "source": [
    "**Some of the popular languages that Data Scientists use are:**\n",
    "\n",
    "1. PYTHON\n",
    "2. R\n",
    "3. SQL\n",
    "4. SCALA\n",
    "5. JAVA\n",
    "6. C++\n",
    "7. JULIA\n",
    "8. JAVA SCRIPT\n",
    "9. PHP\n",
    "10. GO\n",
    "11. RUBY\n",
    "12. VISUAL BASIC"
   ]
  },
  {
   "cell_type": "markdown",
   "metadata": {},
   "source": [
    "**Some of the commonly used libraries used by Data Scientists include:**\n",
    "\n",
    "\n",
    "**PYTHON LIBRARIES:**\n",
    "\n",
    "1. NumPy\n",
    "2. Pandas\n",
    "3. MATPLOTLIB\n",
    "4. Seaborn\n",
    "5. SciKit-learn\n",
    "6. Keras\n",
    "7. TensorFlow\n",
    "8. PyTorch\n",
    "\n",
    "\n",
    "**SCALA LIBRARIES:**\n",
    "\n",
    "9. Vegas\n",
    "10. Big DL\n",
    "11. Akka\n",
    "12. Spark\n",
    "\n",
    "**R LIBRARIES:**\n",
    "\n",
    "13. ggplot2\n",
    "14. dplyr\n",
    "15. plyr\n",
    "\n",
    "\n",
    "**APACHE SPARK LIBRARIES:**\n",
    "\n",
    "16. Spark SQL\n",
    "17. MLlib\n",
    "18. GraphX"
   ]
  },
  {
   "cell_type": "markdown",
   "metadata": {},
   "source": [
    "| DATA SCIENCE TOOLS |\n",
    "| ------------------ |\n",
    "| MySQL |\n",
    "| Apache AirFlow |\n",
    "| GitLab |"
   ]
  },
  {
   "cell_type": "markdown",
   "metadata": {},
   "source": [
    "### Below are a few examples of evaluating arithmetic expressions in Python:"
   ]
  },
  {
   "cell_type": "code",
   "execution_count": 13,
   "metadata": {},
   "outputs": [
    {
     "data": {
      "text/plain": [
       "17"
      ]
     },
     "execution_count": 13,
     "metadata": {},
     "output_type": "execute_result"
    }
   ],
   "source": [
    "# This a simple arithmetic expression to mutiply then add integers:\n",
    "\n",
    "(3*4)+5"
   ]
  },
  {
   "cell_type": "code",
   "execution_count": 14,
   "metadata": {},
   "outputs": [
    {
     "name": "stdout",
     "output_type": "stream",
     "text": [
      "3.3333333333333335\n"
     ]
    }
   ],
   "source": [
    "# This will convert 200 minutes to hours by diving by 60\n",
    "\n",
    "minutes = 200\n",
    "hours = minutes / 60\n",
    "\n",
    "print(hours)"
   ]
  },
  {
   "cell_type": "markdown",
   "metadata": {},
   "source": [
    "## Author\n",
    "Camila Barrichello"
   ]
  }
 ],
 "metadata": {
  "kernelspec": {
   "display_name": "Python",
   "language": "python",
   "name": "conda-env-python-py"
  },
  "language_info": {
   "codemirror_mode": {
    "name": "ipython",
    "version": 3
   },
   "file_extension": ".py",
   "mimetype": "text/x-python",
   "name": "python",
   "nbconvert_exporter": "python",
   "pygments_lexer": "ipython3",
   "version": "3.7.12"
  }
 },
 "nbformat": 4,
 "nbformat_minor": 4
}
